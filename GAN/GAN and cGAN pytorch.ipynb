{
  "nbformat": 4,
  "nbformat_minor": 0,
  "metadata": {
    "colab": {
      "name": "GAN Short Notes.ipynb",
      "provenance": [],
      "collapsed_sections": [
        "UQOxX6zCGeR7",
        "4xGwWxwHRqaP"
      ]
    },
    "kernelspec": {
      "name": "python3",
      "display_name": "Python 3"
    }
  },
  "cells": [
    {
      "cell_type": "markdown",
      "metadata": {
        "id": "UQOxX6zCGeR7"
      },
      "source": [
        "## GAN model Train "
      ]
    },
    {
      "cell_type": "markdown",
      "metadata": {
        "id": "9EHe20OJGj7T"
      },
      "source": [
        "### Import Library"
      ]
    },
    {
      "cell_type": "code",
      "metadata": {
        "id": "Kb8Tmlp-GorA"
      },
      "source": [
        "import numpy as np\n",
        "import torch\n",
        "from torch import Tensor, randn, ones, zeros, optim, save\n",
        "from torch.nn import Module, Sequential, Linear, ReLU, Sigmoid, Tanh, Dropout, BCELoss\n",
        "from torch.utils.data import DataLoader\n",
        "from torch.autograd import Variable\n",
        "from torchvision import transforms\n",
        "from sklearn.preprocessing import MinMaxScaler\n",
        "import torchvision\n",
        "import torchvision.transforms as transforms\n",
        "from torch.utils.data import Dataset, DataLoader\n",
        "import matplotlib.pyplot as plt"
      ],
      "execution_count": null,
      "outputs": []
    },
    {
      "cell_type": "markdown",
      "metadata": {
        "id": "ooW6ZKbWG9gu"
      },
      "source": [
        "###  Random sample distribution Z."
      ]
    },
    {
      "cell_type": "code",
      "metadata": {
        "id": "aTRaBK4wGyT8"
      },
      "source": [
        "\n",
        "        \n",
        "def generateNoise(N):\n",
        "    \"\"\"\n",
        "    Random sample distribution Z.\n",
        "    \"\"\"\n",
        "    noise = Variable(randn(N, 100))\n",
        "    return noise\n",
        "\n"
      ],
      "execution_count": null,
      "outputs": []
    },
    {
      "cell_type": "markdown",
      "metadata": {
        "id": "Pj-JBWjcHYog"
      },
      "source": [
        "### Generative Network"
      ]
    },
    {
      "cell_type": "code",
      "metadata": {
        "id": "4CLsSq34G6bK"
      },
      "source": [
        "class Generator(Module):\n",
        "    def __init__(self):\n",
        "        super(Generator, self).__init__()\n",
        "        d_input = 100\n",
        "        d_output = 28*28\n",
        "        \n",
        "        self.input = Sequential(\n",
        "            Linear(d_input, 256),\n",
        "            ReLU()\n",
        "        )\n",
        "        self.hidden1 = Sequential(            \n",
        "            Linear(256, 512),\n",
        "            ReLU()\n",
        "        )\n",
        "        self.hidden2 = Sequential(\n",
        "            Linear(512, 1024),\n",
        "            ReLU()\n",
        "        )\n",
        "        self.output = Sequential(\n",
        "            Linear(1024, d_output),\n",
        "            Tanh()\n",
        "        )\n",
        "        \n",
        "    def forward(self, x):\n",
        "        x = self.input(x)\n",
        "        x = self.hidden1(x)\n",
        "        x = self.hidden2(x)\n",
        "        x = self.output(x)\n",
        "        return x"
      ],
      "execution_count": null,
      "outputs": []
    },
    {
      "cell_type": "code",
      "metadata": {
        "colab": {
          "base_uri": "https://localhost:8080/"
        },
        "id": "Mg1_0MkMHjxq",
        "outputId": "ef9cd694-2f72-4b6e-d30e-ef9d24eccf2d"
      },
      "source": [
        "Generator()"
      ],
      "execution_count": null,
      "outputs": [
        {
          "output_type": "execute_result",
          "data": {
            "text/plain": [
              "Generator(\n",
              "  (input): Sequential(\n",
              "    (0): Linear(in_features=100, out_features=256, bias=True)\n",
              "    (1): ReLU()\n",
              "  )\n",
              "  (hidden1): Sequential(\n",
              "    (0): Linear(in_features=256, out_features=512, bias=True)\n",
              "    (1): ReLU()\n",
              "  )\n",
              "  (hidden2): Sequential(\n",
              "    (0): Linear(in_features=512, out_features=1024, bias=True)\n",
              "    (1): ReLU()\n",
              "  )\n",
              "  (output): Sequential(\n",
              "    (0): Linear(in_features=1024, out_features=784, bias=True)\n",
              "    (1): Tanh()\n",
              "  )\n",
              ")"
            ]
          },
          "metadata": {
            "tags": []
          },
          "execution_count": 6
        }
      ]
    },
    {
      "cell_type": "markdown",
      "metadata": {
        "id": "B7Chn36YHyGb"
      },
      "source": [
        "###  Descriminative Network"
      ]
    },
    {
      "cell_type": "code",
      "metadata": {
        "id": "qmXnAzb0HpLD"
      },
      "source": [
        "class Discriminator(Module):\n",
        "    def __init__(self):\n",
        "        super(Discriminator, self).__init__()\n",
        "        d_input = 28*28\n",
        "        d_output = 1\n",
        "        \n",
        "        self.input = Sequential( \n",
        "            Linear(d_input, 1024),\n",
        "            ReLU(),\n",
        "            Dropout(0.2)\n",
        "        )\n",
        "        self.hidden1 = Sequential(\n",
        "            Linear(1024, 512),\n",
        "            ReLU(),\n",
        "            Dropout(0.2)\n",
        "        )\n",
        "        self.hidden2 = Sequential(\n",
        "            Linear(512, 256),\n",
        "            ReLU(),\n",
        "            Dropout(0.2)\n",
        "        )\n",
        "        self.output = Sequential(\n",
        "            Linear(256, d_output),\n",
        "            Sigmoid()\n",
        "        )\n",
        "    def forward(self, x):\n",
        "        x = x.view(x.shape[0],-1)\n",
        "        x = self.input(x)\n",
        "        x = self.hidden1(x)\n",
        "        x = self.hidden2(x)\n",
        "        x = self.output(x)\n",
        "        return x"
      ],
      "execution_count": null,
      "outputs": []
    },
    {
      "cell_type": "code",
      "metadata": {
        "colab": {
          "base_uri": "https://localhost:8080/"
        },
        "id": "4D8Z5IbEH4s4",
        "outputId": "ee50dde9-99ed-4ed9-85d0-d66b41315cdf"
      },
      "source": [
        "Discriminator()"
      ],
      "execution_count": null,
      "outputs": [
        {
          "output_type": "execute_result",
          "data": {
            "text/plain": [
              "Discriminator(\n",
              "  (input): Sequential(\n",
              "    (0): Linear(in_features=784, out_features=1024, bias=True)\n",
              "    (1): ReLU()\n",
              "    (2): Dropout(p=0.2, inplace=False)\n",
              "  )\n",
              "  (hidden1): Sequential(\n",
              "    (0): Linear(in_features=1024, out_features=512, bias=True)\n",
              "    (1): ReLU()\n",
              "    (2): Dropout(p=0.2, inplace=False)\n",
              "  )\n",
              "  (hidden2): Sequential(\n",
              "    (0): Linear(in_features=512, out_features=256, bias=True)\n",
              "    (1): ReLU()\n",
              "    (2): Dropout(p=0.2, inplace=False)\n",
              "  )\n",
              "  (output): Sequential(\n",
              "    (0): Linear(in_features=256, out_features=1, bias=True)\n",
              "    (1): Sigmoid()\n",
              "  )\n",
              ")"
            ]
          },
          "metadata": {
            "tags": []
          },
          "execution_count": 70
        }
      ]
    },
    {
      "cell_type": "code",
      "metadata": {
        "id": "fZQ83U4OH6dq"
      },
      "source": [
        "\"\"\" \n",
        "Train Generator \n",
        "\n",
        "\"\"\"\n",
        "def train_d(optim, trueData, falseData):\n",
        "    trueN = trueData.size(0)\n",
        "    falseN = falseData.size(0)\n",
        "        \n",
        "    # Train on true data\n",
        "    optim.zero_grad()\n",
        "    \n",
        "    truePred = discriminator(trueData)\n",
        "    \n",
        "    trueError = loss(truePred, Variable(ones(trueN, 1)))\n",
        "    trueError.backward()\n",
        "\n",
        "    # Train on generated data\n",
        "    falsePred = discriminator(falseData)\n",
        "    falseError = loss(falsePred, Variable(zeros(falseN, 1)))\n",
        "    falseError.backward()\n",
        "    \n",
        "    optim.step()\n",
        "\n",
        "    return trueError + falseError\n",
        "\n",
        "\"\"\" \n",
        "Train Generator based on Discriminators response \n",
        "\n",
        "\"\"\"\n",
        "def train_g(optim, falseData):\n",
        "    falseN = falseData.size(0)\n",
        "    optim.zero_grad()\n",
        "\n",
        "    pred = discriminator(falseData) # Response from Discriminator\n",
        "    error = loss(pred, Variable(ones(falseN, 1))) # Pretending that the false data is true data\n",
        "    error.backward()\n",
        "    optim.step()\n",
        "    \n",
        "    return error"
      ],
      "execution_count": null,
      "outputs": []
    },
    {
      "cell_type": "markdown",
      "metadata": {
        "id": "vfUu7vz-PRhm"
      },
      "source": [
        "### MNIST daaset dowload and data loader"
      ]
    },
    {
      "cell_type": "code",
      "metadata": {
        "id": "KuP5PzwoIkNO"
      },
      "source": [
        "\n",
        "train_set = torchvision.datasets.FashionMNIST(\"./data\", download=True, transform=\n",
        "                                                transforms.Compose([transforms.ToTensor()]))\n",
        "test_set = torchvision.datasets.FashionMNIST(\"./data\", download=True, train=False, transform=\n",
        "                                               transforms.Compose([transforms.ToTensor()]))  \n",
        "train_loader = torch.utils.data.DataLoader(train_set, \n",
        "                                           batch_size=100)\n",
        "test_loader = torch.utils.data.DataLoader(test_set,\n",
        "                                          batch_size=100)                "
      ],
      "execution_count": null,
      "outputs": []
    },
    {
      "cell_type": "code",
      "metadata": {
        "id": "2KDVlBDGJJfH"
      },
      "source": [
        "epochs = 2\n",
        "generator = Generator()\n",
        "discriminator = Discriminator()\n",
        "\n",
        "g_optim = optim.Adam(generator.parameters(), lr=2e-4)\n",
        "d_optim = optim.Adam(discriminator.parameters(), lr=2e-4)\n",
        "loss = BCELoss()"
      ],
      "execution_count": null,
      "outputs": []
    },
    {
      "cell_type": "code",
      "metadata": {
        "colab": {
          "base_uri": "https://localhost:8080/"
        },
        "id": "lMyjQZriJxwq",
        "outputId": "270003be-ebe9-4763-b4f6-8267adf33a35"
      },
      "source": [
        "errors_G = []\n",
        "errors_D = []\n",
        "\n",
        "print('-------- Training models --------')\n",
        "for epoch in range(1, epochs):\n",
        "    for images, labels in train_loader:\n",
        "        # Transfering images and labels to GPU if available\n",
        "        # images, labels = images.to(device), labels.to(device)\n",
        "\n",
        "        trueData = Variable(images)\n",
        "        \n",
        "        falseData = generator(generateNoise(images.size(0))).detach() # detach to not calculate gradients\n",
        "        \n",
        "        error_d = train_d(d_optim, trueData, falseData)\n",
        "\n",
        "        # Train Generator\n",
        "        falseData = generator(generateNoise(batch.size(0)))\n",
        "        error_g = train_g(g_optim, falseData)\n",
        "    \n",
        "    print('Epoch', epoch)\n",
        "    print('Generator Error:', error_g.data)\n",
        "    print('Discriminator Error:', error_d.data)\n",
        "    print()\n",
        "    \n",
        "    errors_G.append(error_g.data)\n",
        "    errors_D.append(error_d.data)\n",
        "print('-------- Finished training --------')   "
      ],
      "execution_count": null,
      "outputs": [
        {
          "output_type": "stream",
          "text": [
            "-------- Training models --------\n",
            "Epoch 1\n",
            "Generator Error: tensor(3.0525)\n",
            "Discriminator Error: tensor(0.3700)\n",
            "\n",
            "-------- Finished training --------\n"
          ],
          "name": "stdout"
        }
      ]
    },
    {
      "cell_type": "markdown",
      "metadata": {
        "id": "eG6dPRFLQ2ZT"
      },
      "source": [
        "### Save and loading model"
      ]
    },
    {
      "cell_type": "code",
      "metadata": {
        "id": "nmdPK0f6QrKa"
      },
      "source": [
        "# save(generator.state_dict(), 'generator.pt')\n",
        "# save(discriminator.state_dict(), 'discriminator.pt')\n",
        "# generator = Generator()\n",
        "# model.load_state_dict(torch.load('generator.pt'))"
      ],
      "execution_count": null,
      "outputs": []
    },
    {
      "cell_type": "markdown",
      "metadata": {
        "id": "5PLJfinDQ7Nb"
      },
      "source": [
        "### Testing Generator"
      ]
    },
    {
      "cell_type": "code",
      "metadata": {
        "colab": {
          "base_uri": "https://localhost:8080/",
          "height": 248
        },
        "id": "azg_4dM5K45m",
        "outputId": "0a81f6cb-772e-473f-928a-af7078f13807"
      },
      "source": [
        "testData = generator(generateNoise(100))\n",
        "\n",
        "for image in testData:\n",
        "    image = image.view(28,28).data\n",
        "    plt.imshow(image, cmap='Greys')\n",
        "    plt.axis('off')\n",
        "    plt.show()\n",
        "    break"
      ],
      "execution_count": null,
      "outputs": [
        {
          "output_type": "display_data",
          "data": {
            "image/png": "[encoded data removed]",
            "text/plain": [
              "<Figure size 432x288 with 1 Axes>"
            ]
          },
          "metadata": {
            "tags": [],
            "needs_background": "light"
          }
        }
      ]
    },
    {
      "cell_type": "markdown",
      "metadata": {
        "id": "juqQ6pLVRA_6"
      },
      "source": [
        "### As we have seen GAN randomly generate Data. So we need to control our data generation by conditional GAN."
      ]
    },
    {
      "cell_type": "markdown",
      "metadata": {
        "id": "4xGwWxwHRqaP"
      },
      "source": [
        "##Conditional GAN\n",
        " Conditional GAN, which is a GAN that allows you to choose the label of the generated image. "
      ]
    },
    {
      "cell_type": "markdown",
      "metadata": {
        "id": "i_Tnqo_eTd32"
      },
      "source": [
        "### Import Library"
      ]
    },
    {
      "cell_type": "code",
      "metadata": {
        "id": "oMiEgssxR0y9"
      },
      "source": [
        "import numpy as np\n",
        "import torch\n",
        "from torch import Tensor, randn, ones, zeros, optim, save\n",
        "from torch.nn import Module, Sequential, Linear, ReLU, Sigmoid, Tanh, Dropout, BCELoss\n",
        "from torch.utils.data import DataLoader\n",
        "from torch.autograd import Variable\n",
        "from torchvision import transforms\n",
        "from sklearn.preprocessing import MinMaxScaler\n",
        "import torchvision\n",
        "import torch.nn as nn\n",
        "import torchvision.transforms as transforms\n",
        "from torch.utils.data import Dataset, DataLoader\n",
        "import matplotlib.pyplot as plt"
      ],
      "execution_count": null,
      "outputs": []
    },
    {
      "cell_type": "markdown",
      "metadata": {
        "id": "LL9gV2bzT8Fg"
      },
      "source": [
        "### Dataloader"
      ]
    },
    {
      "cell_type": "code",
      "metadata": {
        "id": "KJth8epzTSdg"
      },
      "source": [
        "train_set = torchvision.datasets.FashionMNIST(\"./data\", download=True, transform=\n",
        "                                                transforms.Compose([transforms.ToTensor()]))\n",
        "test_set = torchvision.datasets.FashionMNIST(\"./data\", download=True, train=False, transform=\n",
        "                                               transforms.Compose([transforms.ToTensor()]))  \n",
        "train_loader = torch.utils.data.DataLoader(train_set, \n",
        "                                           batch_size=100)\n",
        "test_loader = torch.utils.data.DataLoader(test_set,\n",
        "                                          batch_size=100)                "
      ],
      "execution_count": null,
      "outputs": []
    },
    {
      "cell_type": "markdown",
      "metadata": {
        "id": "ObuWdUvJUFTN"
      },
      "source": [
        "### Descriminator"
      ]
    },
    {
      "cell_type": "code",
      "metadata": {
        "id": "V1WiJpD7UDuM"
      },
      "source": [
        "class Discriminator(nn.Module):\n",
        "    def __init__(self):\n",
        "        super().__init__()\n",
        "        \n",
        "        self.label_emb = nn.Embedding(10, 10)\n",
        "        \n",
        "        self.model = nn.Sequential(\n",
        "            nn.Linear(794, 1024),\n",
        "            nn.LeakyReLU(0.2, inplace=True),\n",
        "            nn.Dropout(0.3),\n",
        "            nn.Linear(1024, 512),\n",
        "            nn.LeakyReLU(0.2, inplace=True),\n",
        "            nn.Dropout(0.3),\n",
        "            nn.Linear(512, 256),\n",
        "            nn.LeakyReLU(0.2, inplace=True),\n",
        "            nn.Dropout(0.3),\n",
        "            nn.Linear(256, 1),\n",
        "            nn.Sigmoid()\n",
        "        )\n",
        "    \n",
        "    def forward(self, x, labels):\n",
        "        x = x.view(x.size(0), 784)\n",
        "        c = self.label_emb(labels)\n",
        "        x = torch.cat([x, c], 1)\n",
        "        out = self.model(x)\n",
        "        return out.squeeze()"
      ],
      "execution_count": null,
      "outputs": []
    },
    {
      "cell_type": "code",
      "metadata": {
        "colab": {
          "base_uri": "https://localhost:8080/"
        },
        "id": "u0BUmuxuUVfG",
        "outputId": "58c2a734-e7d6-413c-c562-de469f78c6a5"
      },
      "source": [
        "Discriminator()"
      ],
      "execution_count": null,
      "outputs": [
        {
          "output_type": "execute_result",
          "data": {
            "text/plain": [
              "Discriminator(\n",
              "  (label_emb): Embedding(10, 10)\n",
              "  (model): Sequential(\n",
              "    (0): Linear(in_features=794, out_features=1024, bias=True)\n",
              "    (1): LeakyReLU(negative_slope=0.2, inplace=True)\n",
              "    (2): Dropout(p=0.3, inplace=False)\n",
              "    (3): Linear(in_features=1024, out_features=512, bias=True)\n",
              "    (4): LeakyReLU(negative_slope=0.2, inplace=True)\n",
              "    (5): Dropout(p=0.3, inplace=False)\n",
              "    (6): Linear(in_features=512, out_features=256, bias=True)\n",
              "    (7): LeakyReLU(negative_slope=0.2, inplace=True)\n",
              "    (8): Dropout(p=0.3, inplace=False)\n",
              "    (9): Linear(in_features=256, out_features=1, bias=True)\n",
              "    (10): Sigmoid()\n",
              "  )\n",
              ")"
            ]
          },
          "metadata": {
            "tags": []
          },
          "execution_count": 10
        }
      ]
    },
    {
      "cell_type": "markdown",
      "metadata": {
        "id": "EPQxaGqMUTOc"
      },
      "source": [
        "### Generator"
      ]
    },
    {
      "cell_type": "code",
      "metadata": {
        "id": "aefUVC2uT_2x"
      },
      "source": [
        "class Generator(nn.Module):\n",
        "    def __init__(self):\n",
        "        super().__init__()\n",
        "        \n",
        "        self.label_emb = nn.Embedding(10, 10)\n",
        "        \n",
        "        self.model = nn.Sequential(\n",
        "            nn.Linear(110, 256),\n",
        "            nn.LeakyReLU(0.2, inplace=True),\n",
        "            nn.Linear(256, 512),\n",
        "            nn.LeakyReLU(0.2, inplace=True),\n",
        "            nn.Linear(512, 1024),\n",
        "            nn.LeakyReLU(0.2, inplace=True),\n",
        "            nn.Linear(1024, 784),\n",
        "            nn.Tanh()\n",
        "        )\n",
        "    \n",
        "    def forward(self, z, labels):\n",
        "        z = z.view(z.size(0), 100)\n",
        "        c = self.label_emb(labels)\n",
        "        x = torch.cat([z, c], 1)\n",
        "        out = self.model(x)\n",
        "        return out.view(x.size(0), 28, 28)"
      ],
      "execution_count": null,
      "outputs": []
    },
    {
      "cell_type": "code",
      "metadata": {
        "colab": {
          "base_uri": "https://localhost:8080/"
        },
        "id": "YXQemdSoUeId",
        "outputId": "22a03bd7-bf4b-47d0-acdf-6c648de9ee80"
      },
      "source": [
        "Generator()"
      ],
      "execution_count": null,
      "outputs": [
        {
          "output_type": "execute_result",
          "data": {
            "text/plain": [
              "Generator(\n",
              "  (label_emb): Embedding(10, 10)\n",
              "  (model): Sequential(\n",
              "    (0): Linear(in_features=110, out_features=256, bias=True)\n",
              "    (1): LeakyReLU(negative_slope=0.2, inplace=True)\n",
              "    (2): Linear(in_features=256, out_features=512, bias=True)\n",
              "    (3): LeakyReLU(negative_slope=0.2, inplace=True)\n",
              "    (4): Linear(in_features=512, out_features=1024, bias=True)\n",
              "    (5): LeakyReLU(negative_slope=0.2, inplace=True)\n",
              "    (6): Linear(in_features=1024, out_features=784, bias=True)\n",
              "    (7): Tanh()\n",
              "  )\n",
              ")"
            ]
          },
          "metadata": {
            "tags": []
          },
          "execution_count": 12
        }
      ]
    },
    {
      "cell_type": "code",
      "metadata": {
        "id": "14Ck9F7LUMB3"
      },
      "source": [
        "generator = Generator()\n",
        "discriminator = Discriminator()"
      ],
      "execution_count": null,
      "outputs": []
    },
    {
      "cell_type": "markdown",
      "metadata": {
        "id": "A_V0z_XZUikL"
      },
      "source": [
        "### Loss and optimizer"
      ]
    },
    {
      "cell_type": "code",
      "metadata": {
        "id": "17s8NHojUPQM"
      },
      "source": [
        "criterion = nn.BCELoss()\n",
        "d_optimizer = torch.optim.Adam(discriminator.parameters(), lr=1e-4)\n",
        "g_optimizer = torch.optim.Adam(generator.parameters(), lr=1e-4)"
      ],
      "execution_count": null,
      "outputs": []
    },
    {
      "cell_type": "code",
      "metadata": {
        "id": "MhjPoVkQUlcR"
      },
      "source": [
        "def generator_train_step(batch_size, discriminator, generator, g_optimizer, criterion):\n",
        "    g_optimizer.zero_grad()\n",
        "    z = Variable(torch.randn(batch_size, 100))\n",
        "    fake_labels = Variable(torch.LongTensor(np.random.randint(0, 10, batch_size)))\n",
        "    fake_images = generator(z, fake_labels)\n",
        "    validity = discriminator(fake_images, fake_labels)\n",
        "    g_loss = criterion(validity, Variable(torch.ones(batch_size)))\n",
        "    g_loss.backward()\n",
        "    g_optimizer.step()\n",
        "    return g_loss.data"
      ],
      "execution_count": null,
      "outputs": []
    },
    {
      "cell_type": "code",
      "metadata": {
        "id": "Foxdo4x6UoSJ"
      },
      "source": [
        "def discriminator_train_step(batch_size, discriminator, generator, d_optimizer, criterion, real_images, labels):\n",
        "    d_optimizer.zero_grad()\n",
        "\n",
        "    # train with real images\n",
        "    real_validity = discriminator(real_images, labels)\n",
        "    real_loss = criterion(real_validity, Variable(torch.ones(batch_size)))\n",
        "    \n",
        "    # train with fake images\n",
        "    z = Variable(torch.randn(batch_size, 100))\n",
        "    fake_labels = Variable(torch.LongTensor(np.random.randint(0, 10, batch_size)))\n",
        "    fake_images = generator(z, fake_labels)\n",
        "    fake_validity = discriminator(fake_images, fake_labels)\n",
        "    fake_loss = criterion(fake_validity, Variable(torch.zeros(batch_size)))\n",
        "    \n",
        "    d_loss = real_loss + fake_loss\n",
        "    d_loss.backward()\n",
        "    d_optimizer.step()\n",
        "    return d_loss.data"
      ],
      "execution_count": null,
      "outputs": []
    },
    {
      "cell_type": "code",
      "metadata": {
        "id": "IZRWJHbPXe8d"
      },
      "source": [
        ""
      ],
      "execution_count": null,
      "outputs": []
    },
    {
      "cell_type": "code",
      "metadata": {
        "id": "rOlmcK9EUrQ1"
      },
      "source": [
        "num_epochs = 2\n",
        "n_critic = 5"
      ],
      "execution_count": null,
      "outputs": []
    },
    {
      "cell_type": "code",
      "metadata": {
        "colab": {
          "base_uri": "https://localhost:8080/"
        },
        "id": "OvgQRdFJUyHM",
        "outputId": "d57c892a-e31b-4b7c-b5d7-0fc7b179251b"
      },
      "source": [
        "print('-------- Training Start --------')  \n",
        "for epoch in range(num_epochs):\n",
        "    print('Starting epoch {}...'.format(epoch))\n",
        "    for i, (images, labels) in enumerate(train_loader):\n",
        "        real_images = Variable(images)\n",
        "        labels = Variable(labels)\n",
        "        generator.train()\n",
        "        batch_size = real_images.size(0)\n",
        "        d_loss = discriminator_train_step(len(real_images), discriminator,\n",
        "                                          generator, d_optimizer, criterion,\n",
        "                                          real_images, labels)\n",
        "        \n",
        "\n",
        "        g_loss = generator_train_step(batch_size, discriminator, generator, g_optimizer, criterion)\n",
        "print('-------- Finished training --------')  "
      ],
      "execution_count": null,
      "outputs": [
        {
          "output_type": "stream",
          "text": [
            "-------- Training Start --------\n",
            "Starting epoch 0...\n",
            "Starting epoch 1...\n",
            "-------- Finished training --------\n"
          ],
          "name": "stdout"
        }
      ]
    },
    {
      "cell_type": "markdown",
      "metadata": {
        "id": "SLKXMhPlYI0x"
      },
      "source": [
        "### Testing by generating sample images by condition"
      ]
    },
    {
      "cell_type": "code",
      "metadata": {
        "id": "PiyizXe6U9VQ"
      },
      "source": [
        ""
      ],
      "execution_count": null,
      "outputs": []
    },
    {
      "cell_type": "code",
      "metadata": {
        "colab": {
          "base_uri": "https://localhost:8080/",
          "height": 248
        },
        "id": "ckQCZ-XxYjKz",
        "outputId": "c7ae07a9-f909-423d-b278-733002f1648c"
      },
      "source": [
        "## ['T-Shirt', 'Trouser', 'Pullover', 'Dress', 'Coat', 'Sandal', 'Shirt', 'Sneaker', 'Bag', 'Ankle boot']\n",
        "z = Variable(torch.randn(1, 100))\n",
        "label = Variable(torch.LongTensor([2]))\n",
        "\n",
        "image = generator(z, label).unsqueeze(1).data\n",
        "\n",
        "image = image.view(28,28).data\n",
        "plt.imshow(image, cmap='Greys')\n",
        "plt.axis('off')\n",
        "plt.show()\n",
        "    "
      ],
      "execution_count": null,
      "outputs": [
        {
          "output_type": "display_data",
          "data": {
            "image/png": "[encoded data removed]",
            "text/plain": [
              "<Figure size 432x288 with 1 Axes>"
            ]
          },
          "metadata": {
            "tags": [],
            "needs_background": "light"
          }
        }
      ]
    },
    {
      "cell_type": "code",
      "metadata": {
        "id": "z_60XQf0bApK"
      },
      "source": [
        ""
      ],
      "execution_count": null,
      "outputs": []
    },
    {
      "cell_type": "code",
      "metadata": {
        "id": "L9ib3Q9qbBGl"
      },
      "source": [
        ""
      ],
      "execution_count": null,
      "outputs": []
    }
  ]
}